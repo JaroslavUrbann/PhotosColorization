{
  "nbformat": 4,
  "nbformat_minor": 0,
  "metadata": {
    "colab": {
      "name": "RetrainPSPNet.ipynb",
      "version": "0.3.2",
      "provenance": [],
      "collapsed_sections": []
    },
    "kernelspec": {
      "name": "python3",
      "display_name": "Python 3"
    },
    "accelerator": "GPU"
  },
  "cells": [
    {
      "metadata": {
        "id": "EH6LvfJJq20y",
        "colab_type": "code",
        "colab": {
          "base_uri": "https://localhost:8080/",
          "height": 383
        },
        "outputId": "470ec0af-8290-49b9-a3a4-6f1ea611eebc"
      },
      "cell_type": "code",
      "source": [
        "!ls\n",
        "!pip install PyDrive\n",
        "from pydrive.auth import GoogleAuth\n",
        "from pydrive.drive import GoogleDrive\n",
        "from google.colab import auth\n",
        "from oauth2client.client import GoogleCredentials\n",
        "from google.colab import files\n",
        "import os.path\n",
        "\n",
        "auth.authenticate_user()\n",
        "gauth = GoogleAuth()\n",
        "gauth.credentials = GoogleCredentials.get_application_default()\n",
        "drive = GoogleDrive(gauth)\n",
        "\n",
        "dataset_training = drive.CreateFile({'id': '1DBm3qlZix2m5i-2zaxW3uvJgSjUaE2Tx'})\n",
        "dataset_training.GetContentFile(\"dataset2_training_1.zip\")\n",
        "\n",
        "dataset_validation = drive.CreateFile({'id': '1Hu4bm92fmnNNPlvweKUgdaPRkL_uN74Z'})\n",
        "dataset_validation.GetContentFile(\"dataset2_validation_1.zip\")\n",
        "\n",
        "model = drive.CreateFile({'id': '1YpCm6bho9fNCVgY9Bh8WBaXX5OQlFqI1'})\n",
        "model.GetContentFile(\"pspnet.h5\")\n",
        "\n",
        "model = drive.CreateFile({'id': '1YpCm6bho9fNCVgY9Bh8WBaXX5OQlFqI1'}) # neměnit\n",
        "model.GetContentFile(\"trained_pspnet.h5\")\n"
      ],
      "execution_count": 1,
      "outputs": [
        {
          "output_type": "stream",
          "text": [
            "sample_data\n",
            "Collecting PyDrive\n",
            "\u001b[?25l  Downloading https://files.pythonhosted.org/packages/52/e0/0e64788e5dd58ce2d6934549676243dc69d982f198524be9b99e9c2a4fd5/PyDrive-1.3.1.tar.gz (987kB)\n",
            "\u001b[K    100% |████████████████████████████████| 993kB 19.6MB/s \n",
            "\u001b[?25hRequirement already satisfied: google-api-python-client>=1.2 in /usr/local/lib/python3.6/dist-packages (from PyDrive) (1.6.7)\n",
            "Requirement already satisfied: oauth2client>=4.0.0 in /usr/local/lib/python3.6/dist-packages (from PyDrive) (4.1.3)\n",
            "Requirement already satisfied: PyYAML>=3.0 in /usr/local/lib/python3.6/dist-packages (from PyDrive) (3.13)\n",
            "Requirement already satisfied: six<2dev,>=1.6.1 in /usr/local/lib/python3.6/dist-packages (from google-api-python-client>=1.2->PyDrive) (1.11.0)\n",
            "Requirement already satisfied: uritemplate<4dev,>=3.0.0 in /usr/local/lib/python3.6/dist-packages (from google-api-python-client>=1.2->PyDrive) (3.0.0)\n",
            "Requirement already satisfied: httplib2<1dev,>=0.9.2 in /usr/local/lib/python3.6/dist-packages (from google-api-python-client>=1.2->PyDrive) (0.11.3)\n",
            "Requirement already satisfied: pyasn1>=0.1.7 in /usr/local/lib/python3.6/dist-packages (from oauth2client>=4.0.0->PyDrive) (0.4.4)\n",
            "Requirement already satisfied: pyasn1-modules>=0.0.5 in /usr/local/lib/python3.6/dist-packages (from oauth2client>=4.0.0->PyDrive) (0.2.2)\n",
            "Requirement already satisfied: rsa>=3.1.4 in /usr/local/lib/python3.6/dist-packages (from oauth2client>=4.0.0->PyDrive) (4.0)\n",
            "Building wheels for collected packages: PyDrive\n",
            "  Running setup.py bdist_wheel for PyDrive ... \u001b[?25l-\b \b\\\b \bdone\n",
            "\u001b[?25h  Stored in directory: /root/.cache/pip/wheels/fa/d2/9a/d3b6b506c2da98289e5d417215ce34b696db856643bad779f4\n",
            "Successfully built PyDrive\n",
            "Installing collected packages: PyDrive\n",
            "Successfully installed PyDrive-1.3.1\n"
          ],
          "name": "stdout"
        }
      ]
    },
    {
      "metadata": {
        "id": "v-fBEuOstQ8f",
        "colab_type": "code",
        "colab": {
          "base_uri": "https://localhost:8080/",
          "height": 35
        },
        "outputId": "e0932755-1274-4f2d-e685-d802bc001f90"
      },
      "cell_type": "code",
      "source": [
        "import zipfile\n",
        "from PIL import Image\n",
        "import numpy as np\n",
        "from keras.models import Model, load_model\n",
        "from keras.callbacks import CSVLogger, Callback\n",
        "from keras import layers\n",
        "from keras.backend import tf as ktf, eval, set_value\n",
        "import time\n",
        "import random"
      ],
      "execution_count": 2,
      "outputs": [
        {
          "output_type": "stream",
          "text": [
            "Using TensorFlow backend.\n"
          ],
          "name": "stderr"
        }
      ]
    },
    {
      "metadata": {
        "id": "ISz4oksXtS1f",
        "colab_type": "code",
        "colab": {}
      },
      "cell_type": "code",
      "source": [
        "\n",
        "def batch_images(index, batch_size, image_paths, imgs, trained_model):\n",
        "    with imgs.open(image_paths[index]) as img:\n",
        "        img = Image.open(img).transpose(Image.FLIP_LEFT_RIGHT)\n",
        "    img = img.resize((473, 473))\n",
        "\n",
        "    y = predict_segmentation(img, trained_model)\n",
        "    x = np.array(img.convert(\"L\").convert(\"RGB\")) - np.array([[[128, 128, 128]]])\n",
        "\n",
        "    return np.expand_dims(x, axis=0), y\n",
        "\n",
        "\n",
        "# Returns one-hot encoded segmentation object (w x h x 150)\n",
        "def predict_segmentation(img, trained_model):\n",
        "    data_mean = np.array([[[123.68, 116.779, 103.939]]])\n",
        "    pixel_img = np.array(img)\n",
        "    pixel_img = pixel_img - data_mean\n",
        "    bgr_img = pixel_img[:, :, ::-1]\n",
        "    segmented_img = trained_model.predict(np.expand_dims(bgr_img, axis=0))\n",
        "    return segmented_img\n",
        "\n",
        "\n",
        "# Yields batches of x and y values\n",
        "def generator_fn(batch_size, images_path, trained_model, validation=False):\n",
        "    with zipfile.ZipFile(images_path) as imgs:\n",
        "        image_paths = imgs.infolist()\n",
        "        n_images = len(image_paths)\n",
        "        i = 0\n",
        "        while True:\n",
        "            if i + batch_size > n_images:\n",
        "                i = 0\n",
        "            if validation and i + batch_size > 256:\n",
        "                i = 0\n",
        "            x, y = batch_images(i, batch_size, image_paths, imgs, trained_model)\n",
        "            i += batch_size\n",
        "            yield x, y"
      ],
      "execution_count": 0,
      "outputs": []
    },
    {
      "metadata": {
        "id": "JtVEUodN9Rch",
        "colab_type": "code",
        "colab": {}
      },
      "cell_type": "code",
      "source": [
        "class Interp(layers.Layer):\n",
        "\n",
        "    def __init__(self, new_size, **kwargs):\n",
        "        self.new_size = new_size\n",
        "        super(Interp, self).__init__(**kwargs)\n",
        "\n",
        "    def build(self, input_shape):\n",
        "        super(Interp, self).build(input_shape)\n",
        "\n",
        "    def call(self, inputs, **kwargs):\n",
        "        new_height, new_width = self.new_size\n",
        "        resized = ktf.image.resize_images(inputs, [new_height, new_width],\n",
        "                                          align_corners=True)\n",
        "        return resized\n",
        "\n",
        "    def compute_output_shape(self, input_shape):\n",
        "        return tuple([None, self.new_size[0], self.new_size[1], input_shape[3]])\n",
        "\n",
        "    def get_config(self):\n",
        "        config = super(Interp, self).get_config()\n",
        "        config['new_size'] = self.new_size\n",
        "        return config\n",
        "\n",
        "\n",
        "# Returns trained model instance\n",
        "def load_trained_model(path):\n",
        "    trained_model = load_model(path, custom_objects={'Interp': Interp})\n",
        "    trained_model._make_predict_function()\n",
        "    return trained_model\n",
        "\n",
        "\n",
        "class Upload2Drive(Callback):\n",
        "  def __init__(self, model_name, n_epochs):\n",
        "      self.model_name = model_name\n",
        "      self.n_epochs = n_epochs\n",
        "      self.model_checkpoint = drive.CreateFile({\"title\": self.model_name + \".h5\",\n",
        "                                              \"parents\": [{\"kind\": \"drive#childList\",\n",
        "                                                           \"id\": \"15svx5A7mYSLMrDcRDmgY5cB3Cj66m6j8\"}]})\n",
        "      self.model_log = drive.CreateFile({\"title\": self.model_name + \".csv\",\n",
        "                                        \"parents\": [{\"kind\": \"drive#childList\",\n",
        "                                                     \"id\": \"15svx5A7mYSLMrDcRDmgY5cB3Cj66m6j8\"}]})\n",
        "  \n",
        "def on_epoch_end(self, epoch, logs=None):\n",
        "    try:\n",
        "        if gauth.access_token_expired:\n",
        "            gauth.Refresh()\n",
        "    except:\n",
        "        print(\"refresh failed\")\n",
        "    if True or epoch / self.n_epochs > 0.4:\n",
        "        try:\n",
        "            self.model.save(self.model_name + \".h5\", overwrite=True)\n",
        "            self.model_checkpoint.SetContentFile(self.model_name + \".h5\")\n",
        "            self.model_log.SetContentFile(self.model_name + \".csv\")\n",
        "        except:\n",
        "            print(\"save failed\")\n",
        "\n",
        "        try:\n",
        "            self.model_checkpoint.Upload()\n",
        "            self.model_log.Upload()\n",
        "        except:\n",
        "            print(\"upload checkpoint failed\")\n",
        "\n",
        "# Returns list of used keras callbacks\n",
        "def callbacks(model_name, n_epochs):\n",
        "    cb = list()\n",
        "    cb.append(CSVLogger(model_name + \".csv\"))\n",
        "    cb.append(Upload2Drive(model_name, n_epochs))\n",
        "    return cb\n"
      ],
      "execution_count": 0,
      "outputs": []
    },
    {
      "metadata": {
        "id": "sYVphuxt9wrP",
        "colab_type": "code",
        "colab": {
          "base_uri": "https://localhost:8080/",
          "height": 35
        },
        "outputId": "7a820b11-334a-4986-80ba-c7d1ab3f5512"
      },
      "cell_type": "code",
      "source": [
        "model_name = \"pspnet_1\"\n",
        "batch_size = 1\n",
        "batches_per_epoch = 4672\n",
        "n_epochs = 10\n",
        "batches_per_validation = 256\n",
        "\n",
        "trained_model = load_trained_model(\"trained_pspnet.h5\")\n",
        "model = load_trained_model(\"pspnet.h5\")\n",
        "\n",
        "training_data_fn = generator_fn(batch_size, \"dataset2_training_1.zip\", trained_model)\n",
        "validation_data_fn = generator_fn(batch_size, \"dataset2_validation_1.zip\", trained_model, validation=True)\n",
        "\n",
        "start_time = time.time()\n",
        "model.fit_generator(training_data_fn,\n",
        "                    epochs=n_epochs,\n",
        "                    steps_per_epoch=batches_per_epoch,\n",
        "                    callbacks=callbacks(model_name, n_epochs),\n",
        "                    validation_data=validation_data_fn,\n",
        "                    validation_steps=batches_per_validation,\n",
        "                    verbose=2,\n",
        "                    max_queue_size=20)\n",
        "\n",
        "print(\"Training took: \" + str(time.time() - start_time))\n",
        "\n",
        "!ls"
      ],
      "execution_count": 0,
      "outputs": [
        {
          "output_type": "stream",
          "text": [
            "Epoch 1/10\n"
          ],
          "name": "stdout"
        }
      ]
    }
  ]
}